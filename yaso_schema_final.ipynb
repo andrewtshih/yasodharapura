{
    "metadata": {
        "kernelspec": {
            "name": "SQL",
            "display_name": "SQL",
            "language": "sql"
        },
        "language_info": {
            "name": "sql",
            "version": ""
        }
    },
    "nbformat_minor": 2,
    "nbformat": 4,
    "cells": [
        {
            "cell_type": "markdown",
            "source": [
                "# Project: Data Pipeline Database Schema\n",
                "\n",
                "## Team Yaśodharapura\n",
                "\n",
                "### Malcolm Ehlers, Andrew Shih, Alex Wei"
            ],
            "metadata": {
                "azdata_cell_guid": "0ef448ca-f7ef-4d8c-97a3-79b04877e630"
            },
            "attachments": {}
        },
        {
            "cell_type": "markdown",
            "source": [
                "<span style=\"font-size:12pt;font-family:Arial,sans-serif;color:#000000;background-color:transparent;font-weight:400;font-style:normal;font-variant:normal;text-decoration:none;vertical-align:baseline;white-space:pre;white-space:pre-wrap;\">Our main information is institution-level. We have two tables for this purpose: a table with changing information </span> <span style=\"font-size:9pt;font-family:Arial,sans-serif;color:#a31515;background-color:transparent;font-weight:700;font-style:normal;font-variant:normal;text-decoration:none;vertical-align:baseline;white-space:pre;white-space:pre-wrap;\">institutions_non_static</span><span style=\"font-size:12pt;font-family:Arial,sans-serif;color:#000000;background-color:transparent;font-weight:400;font-style:normal;font-variant:normal;text-decoration:none;vertical-align:baseline;white-space:pre;white-space:pre-wrap;\">, which gets new rows every year for every institution, and a table with static information</span> <span style=\"font-size:9pt;font-family:Arial,sans-serif;color:#a31515;background-color:transparent;font-weight:700;font-style:normal;font-variant:normal;text-decoration:none;vertical-align:baseline;white-space:pre;white-space:pre-wrap;\">institutions_static</span><span style=\"font-size:12pt;font-family:Arial,sans-serif;color:#000000;background-color:transparent;font-weight:400;font-style:normal;font-variant:normal;text-decoration:none;vertical-align:baseline;white-space:pre;white-space:pre-wrap;\">, which (generally) does not change from year to year. This prevents redundancy by keeping us from having to repeat static information for every new year for an institution.</span>\n",
                "\n",
                "<span style=\"font-size:12pt;font-family:Arial,sans-serif;color:#000000;background-color:transparent;font-weight:400;font-style:normal;font-variant:normal;text-decoration:none;vertical-align:baseline;white-space:pre;white-space:pre-wrap;\">Additionally, we have several tables that link text information (such as state) with an integer ID. This allows us to save space by storing text information in a smaller table with all possibilities and keeping their lower-storage integer IDs in the main tables. These linking tables represent the following entities:</span>\n",
                "\n",
                "- <span style=\"font-size:9pt;font-family:Arial,sans-serif;color:#a31515;background-color:transparent;font-weight:400;font-style:normal;font-variant:normal;text-decoration:none;vertical-align:baseline;white-space:pre;white-space:pre-wrap;\">preddegs</span> <span style=\"font-size:12pt;font-family:Arial,sans-serif;color:#000000;background-color:transparent;font-weight:400;font-style:normal;font-variant:normal;text-decoration:none;vertical-align:baseline;white-space:pre;white-space:pre-wrap;\">and </span> <span style=\"font-size:9pt;font-family:Arial,sans-serif;color:#a31515;background-color:transparent;font-weight:400;font-style:normal;font-variant:normal;text-decoration:none;vertical-align:baseline;white-space:pre;white-space:pre-wrap;\">highdegs</span> <span style=\"font-size:12pt;font-family:Arial,sans-serif;color:#000000;background-color:transparent;font-weight:400;font-style:normal;font-variant:normal;text-decoration:none;vertical-align:baseline;white-space:pre;white-space:pre-wrap;\">represent the predominant degree and highest degree offered (respectively).</span>\n",
                "    \n",
                "- <span style=\"font-size:9pt;font-family:Arial,sans-serif;color:#a31515;background-color:transparent;font-weight:400;font-style:normal;font-variant:normal;text-decoration:none;vertical-align:baseline;white-space:pre;white-space:pre-wrap;\">controls</span> <span style=\"font-size:12pt;font-family:Arial,sans-serif;color:#000000;background-color:transparent;font-weight:400;font-style:normal;font-variant:normal;text-decoration:none;vertical-align:baseline;white-space:pre;white-space:pre-wrap;\">represents an institution's control (whether they are public, private not-for-profit, etc.).</span>\n",
                "    \n",
                "- <span style=\"font-size:9pt;font-family:Arial,sans-serif;color:#a31515;background-color:transparent;font-weight:400;font-style:normal;font-variant:normal;text-decoration:none;vertical-align:baseline;white-space:pre;white-space:pre-wrap;\">regions</span> <span style=\"font-size:12pt;font-family:Arial,sans-serif;color:#000000;background-color:transparent;font-weight:400;font-style:normal;font-variant:normal;text-decoration:none;vertical-align:baseline;white-space:pre;white-space:pre-wrap;\">represents the region in the United States an institution is located. We decided to include information about both an institution's region and the state in which it's located because, while a region is composed of multiple states, there is one region that covers service schools and thus does not represent geographic location at a state-level granularity.</span>\n",
                "    \n",
                "- <span style=\"font-size:9pt;font-family:Arial,sans-serif;color:#a31515;background-color:transparent;font-weight:400;font-style:normal;font-variant:normal;text-decoration:none;vertical-align:baseline;white-space:pre;white-space:pre-wrap;\">accred_agencies</span> <span style=\"font-size:12pt;font-family:Arial,sans-serif;color:#000000;background-color:transparent;font-weight:400;font-style:normal;font-variant:normal;text-decoration:none;vertical-align:baseline;white-space:pre;white-space:pre-wrap;\">represents the agency by which and institution is accredited.</span>\n",
                "    \n",
                "- <span style=\"font-size:9pt;font-family:Arial,sans-serif;color:#a31515;background-color:transparent;font-weight:400;font-style:normal;font-variant:normal;text-decoration:none;vertical-align:baseline;white-space:pre;white-space:pre-wrap;\">ccs_basic</span><span style=\"font-size:12pt;font-family:Arial,sans-serif;color:#000000;background-color:transparent;font-weight:400;font-style:normal;font-variant:normal;text-decoration:none;vertical-align:baseline;white-space:pre;white-space:pre-wrap;\">, </span> <span style=\"font-size:9pt;font-family:Arial,sans-serif;color:#a31515;background-color:transparent;font-weight:400;font-style:normal;font-variant:normal;text-decoration:none;vertical-align:baseline;white-space:pre;white-space:pre-wrap;\">ccs_ipug</span><span style=\"font-size:12pt;font-family:Arial,sans-serif;color:#000000;background-color:transparent;font-weight:400;font-style:normal;font-variant:normal;text-decoration:none;vertical-align:baseline;white-space:pre;white-space:pre-wrap;\">, </span> <span style=\"font-size:9pt;font-family:Arial,sans-serif;color:#a31515;background-color:transparent;font-weight:400;font-style:normal;font-variant:normal;text-decoration:none;vertical-align:baseline;white-space:pre;white-space:pre-wrap;\">ccs_ipgrd</span><span style=\"font-size:12pt;font-family:Arial,sans-serif;color:#000000;background-color:transparent;font-weight:400;font-style:normal;font-variant:normal;text-decoration:none;vertical-align:baseline;white-space:pre;white-space:pre-wrap;\">, </span> <span style=\"font-size:9pt;font-family:Arial,sans-serif;color:#a31515;background-color:transparent;font-weight:400;font-style:normal;font-variant:normal;text-decoration:none;vertical-align:baseline;white-space:pre;white-space:pre-wrap;\">ccs_ugprf</span><span style=\"font-size:12pt;font-family:Arial,sans-serif;color:#000000;background-color:transparent;font-weight:400;font-style:normal;font-variant:normal;text-decoration:none;vertical-align:baseline;white-space:pre;white-space:pre-wrap;\">, </span> <span style=\"font-size:9pt;font-family:Arial,sans-serif;color:#a31515;background-color:transparent;font-weight:400;font-style:normal;font-variant:normal;text-decoration:none;vertical-align:baseline;white-space:pre;white-space:pre-wrap;\">ccs_enprf</span><span style=\"font-size:12pt;font-family:Arial,sans-serif;color:#000000;background-color:transparent;font-weight:400;font-style:normal;font-variant:normal;text-decoration:none;vertical-align:baseline;white-space:pre;white-space:pre-wrap;\">, and </span> <span style=\"font-size:9pt;font-family:Arial,sans-serif;color:#a31515;background-color:transparent;font-weight:400;font-style:normal;font-variant:normal;text-decoration:none;vertical-align:baseline;white-space:pre;white-space:pre-wrap;\">ccs_szset</span> <span style=\"font-size:12pt;font-family:Arial,sans-serif;color:#000000;background-color:transparent;font-weight:400;font-style:normal;font-variant:normal;text-decoration:none;vertical-align:baseline;white-space:pre;white-space:pre-wrap;\">represent the 2021 Carnegie Classifications of an institution. Each of these are in separate linking tables because the way each variable was serialized causes the same number to identify a different classification. For example, the key </span> <span style=\"font-size:9pt;font-family:Arial,sans-serif;color:#a31515;background-color:transparent;font-weight:400;font-style:normal;font-variant:normal;text-decoration:none;vertical-align:baseline;white-space:pre;white-space:pre-wrap;\">3</span> <span style=\"font-size:12pt;font-family:Arial,sans-serif;color:#000000;background-color:transparent;font-weight:400;font-style:normal;font-variant:normal;text-decoration:none;vertical-align:baseline;white-space:pre;white-space:pre-wrap;\">in </span> <span style=\"font-size:9pt;font-family:Arial,sans-serif;color:#a31515;background-color:transparent;font-weight:400;font-style:normal;font-variant:normal;text-decoration:none;vertical-align:baseline;white-space:pre;white-space:pre-wrap;\">ccs_ugprf</span> <span style=\"font-size:12pt;font-family:Arial,sans-serif;color:#000000;background-color:transparent;font-weight:400;font-style:normal;font-variant:normal;text-decoration:none;vertical-align:baseline;white-space:pre;white-space:pre-wrap;\">corresponds to \"Two-year, medium full-time\", while the same key in </span> <span style=\"font-size:9pt;font-family:Arial,sans-serif;color:#a31515;background-color:transparent;font-weight:400;font-style:normal;font-variant:normal;text-decoration:none;vertical-align:baseline;white-space:pre;white-space:pre-wrap;\">ccs_szset</span> <span style=\"font-size:12pt;font-family:Arial,sans-serif;color:#000000;background-color:transparent;font-weight:400;font-style:normal;font-variant:normal;text-decoration:none;vertical-align:baseline;white-space:pre;white-space:pre-wrap;\">corresponds to \"Two-year, medium\".</span>\n",
                "    \n",
                "- <span style=\"font-size:9pt;font-family:Arial,sans-serif;color:#a31515;background-color:transparent;font-weight:400;font-style:normal;font-variant:normal;text-decoration:none;vertical-align:baseline;white-space:pre;white-space:pre-wrap;\">cbsas</span> <span style=\"font-size:12pt;font-family:Arial,sans-serif;color:#000000;background-color:transparent;font-weight:400;font-style:normal;font-variant:normal;text-decoration:none;vertical-align:baseline;white-space:pre;white-space:pre-wrap;\">represents the core-based statistical area of an institution. Information about combined statistical areas </span> <span style=\"font-size:9pt;font-family:Arial,sans-serif;color:#a31515;background-color:transparent;font-weight:400;font-style:normal;font-variant:normal;text-decoration:none;vertical-align:baseline;white-space:pre;white-space:pre-wrap;\">csa</span> <span style=\"font-size:12pt;font-family:Arial,sans-serif;color:#000000;background-color:transparent;font-weight:400;font-style:normal;font-variant:normal;text-decoration:none;vertical-align:baseline;white-space:pre;white-space:pre-wrap;\">is encoded in this table because one CSA is composed of two or more CBSAs.</span>\n",
                "    \n",
                "- <span style=\"font-size:9pt;font-family:Arial,sans-serif;color:#a31515;background-color:transparent;font-weight:400;font-style:normal;font-variant:normal;text-decoration:none;vertical-align:baseline;white-space:pre;white-space:pre-wrap;\">cities</span> <span style=\"font-size:12pt;font-family:Arial,sans-serif;color:#000000;background-color:transparent;font-weight:400;font-style:normal;font-variant:normal;text-decoration:none;vertical-align:baseline;white-space:pre;white-space:pre-wrap;\">represents the city an institution is in. Information about the state in which an institution is in is encoded in this table because a city is entirely located within one state.</span>\n",
                "    \n",
                "    - <span style=\"font-size:12pt;font-family:Arial,sans-serif;color:#000000;background-color:transparent;font-weight:400;font-style:normal;font-variant:normal;text-decoration:none;vertical-align:baseline;white-space:pre;white-space:pre-wrap;\">Notably, we do not have a </span> <span style=\"font-size:9pt;font-family:Arial,sans-serif;color:#a31515;background-color:transparent;font-weight:400;font-style:normal;font-variant:normal;text-decoration:none;vertical-align:baseline;white-space:pre;white-space:pre-wrap;\">states</span> <span style=\"font-size:12pt;font-family:Arial,sans-serif;color:#000000;background-color:transparent;font-weight:400;font-style:normal;font-variant:normal;text-decoration:none;vertical-align:baseline;white-space:pre;white-space:pre-wrap;\">table that encodes information about state abbreviations, cities, and ZIP codes because ZIP codes can cross state lines. This informed our decision to create a </span> <span style=\"font-size:9pt;font-family:Arial,sans-serif;color:#a31515;background-color:transparent;font-weight:400;font-style:normal;font-variant:normal;text-decoration:none;vertical-align:baseline;white-space:pre;white-space:pre-wrap;\">cities</span> <span style=\"font-size:12pt;font-family:Arial,sans-serif;color:#000000;background-color:transparent;font-weight:400;font-style:normal;font-variant:normal;text-decoration:none;vertical-align:baseline;white-space:pre;white-space:pre-wrap;\">table instead and include </span> <span style=\"font-size:9pt;font-family:Arial,sans-serif;color:#a31515;background-color:transparent;font-weight:400;font-style:normal;font-variant:normal;text-decoration:none;vertical-align:baseline;white-space:pre;white-space:pre-wrap;\">zip</span> <span style=\"font-size:12pt;font-family:Arial,sans-serif;color:#000000;background-color:transparent;font-weight:400;font-style:normal;font-variant:normal;text-decoration:none;vertical-align:baseline;white-space:pre;white-space:pre-wrap;\">as a variable in </span> <span style=\"font-size:9pt;font-family:Arial,sans-serif;color:#a31515;background-color:transparent;font-weight:400;font-style:normal;font-variant:normal;text-decoration:none;vertical-align:baseline;white-space:pre;white-space:pre-wrap;\">institutions_static</span><span style=\"font-size:12pt;font-family:Arial,sans-serif;color:#000000;background-color:transparent;font-weight:400;font-style:normal;font-variant:normal;text-decoration:none;vertical-align:baseline;white-space:pre;white-space:pre-wrap;\">.</span>\n",
                "\n",
                "<span style=\"font-size:12pt;font-family:Arial,sans-serif;color:#000000;background-color:transparent;font-weight:400;font-style:normal;font-variant:normal;text-decoration:none;vertical-align:baseline;white-space:pre;white-space:pre-wrap;\">We chose the entities above because they optimally make an institution's classification collectively exhaustive and mutually exclusive. No variable (unless it is a key) is repeated in any table, which prevents redundancy. We used the perspective of a student or parent engaged in the college application process to make decisions about when to create a linking table and when not to over-normalize. For example, we decided not to make another table encoding CSAs because a CBSA likely reveals enough location information desired by most of the intended audience.</span>"
            ],
            "metadata": {
                "azdata_cell_guid": "6f9cc9dd-5179-4599-9fc7-293b7e1d9d8b"
            },
            "attachments": {}
        },
        {
            "cell_type": "code",
            "source": [
                "CREATE TABLE controls (\n",
                "    -- ipeds\n",
                "    control_id SERIAL PRIMARY KEY,\n",
                "    control TEXT\n",
                ");\n",
                "\n",
                "CREATE TABLE regions (\n",
                "    -- ipeds\n",
                "    region_id SERIAL PRIMARY KEY,\n",
                "    region TEXT\n",
                ");\n",
                "\n",
                "CREATE TABLE ccs_basic (\n",
                "    -- ipeds\n",
                "    cc_basic_id SERIAL PRIMARY KEY,\n",
                "    cc_basic TEXT\n",
                ");\n",
                "\n",
                "CREATE TABLE ccs_ipug (\n",
                "    -- ipeds\n",
                "    cc_ipug_id SERIAL PRIMARY KEY,\n",
                "    cc_ipug TEXT\n",
                ");\n",
                "\n",
                "CREATE TABLE ccs_ipgrd (\n",
                "    -- ipeds\n",
                "    cc_ipgrd_id SERIAL PRIMARY KEY,\n",
                "    cc_ipgrd TEXT\n",
                ");\n",
                "\n",
                "CREATE TABLE ccs_ugprf (\n",
                "    -- ipeds\n",
                "    cc_ugprf_id SERIAL PRIMARY KEY,\n",
                "    cc_ugprf TEXT\n",
                ");\n",
                "\n",
                "CREATE TABLE ccs_enprf (\n",
                "    -- ipeds\n",
                "    cc_enprf_id SERIAL PRIMARY KEY,\n",
                "    cc_enprf TEXT\n",
                ");\n",
                "\n",
                "CREATE TABLE ccs_szset (\n",
                "    -- ipeds\n",
                "    cc_szset_id SERIAL PRIMARY KEY,\n",
                "    cc_szset TEXT\n",
                ");\n",
                "\n",
                "CREATE TABLE cities (\n",
                "    -- ipeds\n",
                "    city_id SERIAL PRIMARY KEY,\n",
                "    city TEXT,\n",
                "    stabbr TEXT check (length(stabbr) = 2)\n",
                ");\n",
                "\n",
                "CREATE TABLE preddegs (\n",
                "    -- col_scor\n",
                "    preddeg_id SERIAL PRIMARY KEY,\n",
                "    preddeg TEXT\n",
                ");\n",
                "\n",
                "CREATE TABLE highdegs (\n",
                "    -- col_scor\n",
                "    highdeg_id SERIAL PRIMARY KEY,\n",
                "    highdeg TEXT\n",
                ");\n",
                "\n",
                "CREATE TABLE accred_agencies (\n",
                "    -- col_scor\n",
                "    agency_id SERIAL PRIMARY KEY,\n",
                "    accred_agency TEXT\n",
                ");\n",
                "\n",
                "CREATE TABLE institutions_static (\n",
                "    -- ipeds\n",
                "    unit_id SERIAL PRIMARY KEY,\n",
                "    instnm TEXT,\n",
                "    addr TEXT,\n",
                "    city_id INT REFERENCES cities (city_id),\n",
                "    zip TEXT check (length(TEXT(zip)) = 5),\n",
                "    county_cd INT,\n",
                "    cbsa TEXT,\n",
                "    cbsa_type TEXT, \n",
                "    csa TEXT, \n",
                "    -- cbsa_id INT REFERENCES cbsas (cbsa_id),\n",
                "    region_id INT REFERENCES regions (region_id),\n",
                "    latitude FLOAT,\n",
                "    longitude FLOAT,\n",
                "    control_id INT REFERENCES controls (control_id),\n",
                "    c21basic_id INT REFERENCES ccs_basic (cc_basic_id),\n",
                "    c21ipug_id INT REFERENCES ccs_ipug (cc_ipug_id),\n",
                "    c21ipgrd_id INT REFERENCES ccs_ipgrd (cc_ipgrd_id),\n",
                "    c21ugprf_id INT REFERENCES ccs_ugprf (cc_ugprf_id),\n",
                "    c21enprf_id INT REFERENCES ccs_enprf (cc_enprf_id),\n",
                "    c21szset_id INT REFERENCES ccs_szset (cc_szset_id)\n",
                ");\n",
                "\n",
                "CREATE TABLE institutions_non_static (\n",
                "    -- col_scor\n",
                "    unit_id SERIAL PRIMARY KEY, -- changed to its own primary key\n",
                "    year TEXT,\n",
                "    agency_id INT REFERENCES accred_agencies (agency_id), --col_scor moved from static table\n",
                "    preddeg_id INT REFERENCES preddegs (preddeg_id), --col_scor moved from static table\n",
                "    highdeg_id INT REFERENCES highdegs (highdeg_id), --col_scor moved from static table\n",
                "    adm_rate FLOAT check (adm_rate >= 0 AND adm_rate <= 1 OR adm_rate IS NULL),\n",
                "    tuitionfee_in NUMERIC,\n",
                "    tuitionfee_out NUMERIC,\n",
                "    tuitionfee_prog NUMERIC,\n",
                "    tuitfte NUMERIC,\n",
                "    avgfacsal NUMERIC,\n",
                "    cdr2 FLOAT,\n",
                "    cdr3 FLOAT,\n",
                "    actcmmid FLOAT,\n",
                "    actcm25 FLOAT,\n",
                "    actcm75 FLOAT,\n",
                "    PRIMARY KEY (unit_id, year)\n",
                ");"
            ],
            "metadata": {
                "azdata_cell_guid": "e5b13943-b402-4200-a4a2-54bd26e8f2f0",
                "language": "sql",
                "tags": []
            },
            "outputs": [
                {
                    "output_type": "display_data",
                    "data": {
                        "text/html": "CREATE TABLE"
                    },
                    "metadata": {}
                },
                {
                    "output_type": "display_data",
                    "data": {
                        "text/html": "CREATE TABLE"
                    },
                    "metadata": {}
                },
                {
                    "output_type": "display_data",
                    "data": {
                        "text/html": "CREATE TABLE"
                    },
                    "metadata": {}
                },
                {
                    "output_type": "display_data",
                    "data": {
                        "text/html": "CREATE TABLE"
                    },
                    "metadata": {}
                },
                {
                    "output_type": "display_data",
                    "data": {
                        "text/html": "CREATE TABLE"
                    },
                    "metadata": {}
                },
                {
                    "output_type": "display_data",
                    "data": {
                        "text/html": "CREATE TABLE"
                    },
                    "metadata": {}
                },
                {
                    "output_type": "display_data",
                    "data": {
                        "text/html": "CREATE TABLE"
                    },
                    "metadata": {}
                },
                {
                    "output_type": "display_data",
                    "data": {
                        "text/html": "CREATE TABLE"
                    },
                    "metadata": {}
                },
                {
                    "output_type": "display_data",
                    "data": {
                        "text/html": "CREATE TABLE"
                    },
                    "metadata": {}
                },
                {
                    "output_type": "display_data",
                    "data": {
                        "text/html": "CREATE TABLE"
                    },
                    "metadata": {}
                },
                {
                    "output_type": "display_data",
                    "data": {
                        "text/html": "CREATE TABLE"
                    },
                    "metadata": {}
                },
                {
                    "output_type": "display_data",
                    "data": {
                        "text/html": "CREATE TABLE"
                    },
                    "metadata": {}
                },
                {
                    "output_type": "display_data",
                    "data": {
                        "text/html": "CREATE TABLE"
                    },
                    "metadata": {}
                },
                {
                    "output_type": "display_data",
                    "data": {
                        "text/html": "CREATE TABLE"
                    },
                    "metadata": {}
                },
                {
                    "output_type": "display_data",
                    "data": {
                        "text/html": "Total execution time: 00:00:00.436"
                    },
                    "metadata": {}
                }
            ],
            "execution_count": 26
        },
        {
            "cell_type": "markdown",
            "source": [],
            "metadata": {
                "azdata_cell_guid": "9540be19-ff6a-49d4-ab33-6a20e0923998",
                "language": "sql"
            }
        },
        {
            "cell_type": "code",
            "source": [
                "DROP TABLE IF EXISTS institutions_non_static;\n",
                "DROP TABLE IF EXISTS institutions_static;\n",
                "DROP TABLE IF EXISTS preddegs;\n",
                "DROP TABLE IF EXISTS highdegs;\n",
                "DROP TABLE IF EXISTS controls;\n",
                "DROP TABLE IF EXISTS regions;\n",
                "DROP TABLE IF EXISTS accred_agencies;\n",
                "DROP TABLE IF EXISTS ccs_basic;\n",
                "DROP TABLE IF EXISTS ccs_ipug;\n",
                "DROP TABLE IF EXISTS ccs_ipgrd;\n",
                "DROP TABLE IF EXISTS ccs_ugprf;\n",
                "DROP TABLE IF EXISTS ccs_enprf;\n",
                "DROP TABLE IF EXISTS ccs_szset;\n",
                "-- DROP TABLE IF EXISTS cbsas;\n",
                "DROP TABLE IF EXISTS cities;"
            ],
            "metadata": {
                "azdata_cell_guid": "63665779-2db0-4dfb-a744-9198609ec087",
                "language": "sql"
            },
            "outputs": [
                {
                    "output_type": "display_data",
                    "data": {
                        "text/html": "DROP TABLE"
                    },
                    "metadata": {}
                },
                {
                    "output_type": "display_data",
                    "data": {
                        "text/html": "DROP TABLE"
                    },
                    "metadata": {}
                },
                {
                    "output_type": "display_data",
                    "data": {
                        "text/html": "DROP TABLE"
                    },
                    "metadata": {}
                },
                {
                    "output_type": "display_data",
                    "data": {
                        "text/html": "DROP TABLE"
                    },
                    "metadata": {}
                },
                {
                    "output_type": "display_data",
                    "data": {
                        "text/html": "DROP TABLE"
                    },
                    "metadata": {}
                },
                {
                    "output_type": "display_data",
                    "data": {
                        "text/html": "DROP TABLE"
                    },
                    "metadata": {}
                },
                {
                    "output_type": "display_data",
                    "data": {
                        "text/html": "DROP TABLE"
                    },
                    "metadata": {}
                },
                {
                    "output_type": "display_data",
                    "data": {
                        "text/html": "DROP TABLE"
                    },
                    "metadata": {}
                },
                {
                    "output_type": "display_data",
                    "data": {
                        "text/html": "DROP TABLE"
                    },
                    "metadata": {}
                },
                {
                    "output_type": "display_data",
                    "data": {
                        "text/html": "DROP TABLE"
                    },
                    "metadata": {}
                },
                {
                    "output_type": "display_data",
                    "data": {
                        "text/html": "DROP TABLE"
                    },
                    "metadata": {}
                },
                {
                    "output_type": "display_data",
                    "data": {
                        "text/html": "DROP TABLE"
                    },
                    "metadata": {}
                },
                {
                    "output_type": "display_data",
                    "data": {
                        "text/html": "DROP TABLE"
                    },
                    "metadata": {}
                },
                {
                    "output_type": "display_data",
                    "data": {
                        "text/html": "DROP TABLE"
                    },
                    "metadata": {}
                },
                {
                    "output_type": "display_data",
                    "data": {
                        "text/html": "Total execution time: 00:00:00.391"
                    },
                    "metadata": {}
                }
            ],
            "execution_count": 25
        },
        {
            "cell_type": "markdown",
            "source": [],
            "metadata": {
                "azdata_cell_guid": "c04f4d99-c490-462e-b21b-17ff826dc99d",
                "language": "sql"
            }
        }
    ]
}